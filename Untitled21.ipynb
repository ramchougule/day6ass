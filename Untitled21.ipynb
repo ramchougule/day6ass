{
 "cells": [
  {
   "cell_type": "code",
   "execution_count": null,
   "metadata": {},
   "outputs": [
    {
     "name": "stdout",
     "output_type": "stream",
     "text": [
      "enter the 1 for deposit and 2 for withdraw1\n",
      "enter the amount to be deposited500\n",
      "the balance after depositing money is  5500\n",
      "enter the 1 for deposit and 2 for withdraw2\n",
      "enter the amount to be withdraw1000\n",
      "the balance after withdrawing money is  4500\n",
      "enter the 1 for deposit and 2 for withdraw2\n",
      "enter the amount to be withdraw4500\n",
      "the balance after withdrawing money is  0\n",
      "enter the 1 for deposit and 2 for withdraw100\n",
      "invalid argument!!!\n"
     ]
    }
   ],
   "source": [
    "class bankacc:\n",
    "    def __init__(self,ownername,balance):\n",
    "        self.ownername=ownername\n",
    "        self.balance=balance\n",
    "        \n",
    "    def deposit(self):\n",
    "        addamt=int(input(\"enter the amount to be deposited\"))\n",
    "        self.balance += addamt\n",
    "        print(\"the balance after depositing money is \",self.balance)\n",
    "        \n",
    "    def withdraw(self):\n",
    "        if(self.balance>0):\n",
    "            amt=int(input(\"enter the amount to be withdraw\"))\n",
    "            self.balance -= amt\n",
    "            print(\"the balance after withdrawing money is \",self.balance)\n",
    "        else:\n",
    "            print(\"u have exceeded the balance\")\n",
    "            \n",
    "bac1=bankacc(\"Ram\",5000)        \n",
    "class acc(bankacc):\n",
    "    def __init__(self,ownername,balance):\n",
    "        super().__init__(ownername,balance)\n",
    "    \n",
    "    def todo(self):\n",
    "        flag=\"n\"\n",
    "        \n",
    "        while flag.lower()!=\"y\":\n",
    "            input1=int(input(\"enter the 1 for deposit and 2 for withdraw\"))\n",
    "            if input1==1:\n",
    "                bankacc.deposit(self)\n",
    "            elif input1==2:\n",
    "                bankacc.withdraw(self)\n",
    "            else:\n",
    "                print(\"invalid argument!!!\")\n",
    "                \n",
    "            #print(\"the balance is \",self.balance)\n",
    "            \n",
    "            \n",
    "        flag=input(\"yo want to exit y|n--\")\n",
    "        \n",
    "ac1=acc(\"Ram\",5000)\n",
    "ac1.todo()"
   ]
  },
  {
   "cell_type": "code",
   "execution_count": 3,
   "metadata": {},
   "outputs": [
    {
     "name": "stdout",
     "output_type": "stream",
     "text": [
      "the volume of cone is  12.566370614359172\n",
      "the surface area of cone is  94.2477796076938\n"
     ]
    }
   ],
   "source": [
    "import math\n",
    "\n",
    "class cone:\n",
    "    def __init__(self,radius,height):\n",
    "        self.radius=radius\n",
    "        self.height=height\n",
    "        \n",
    "    def calcVol(self):\n",
    "        volume=math.pi*self.radius*self.radius*(self.height/3)\n",
    "        print(\"the volume of cone is \",volume)\n",
    "        \n",
    "    def calcSurface(self):\n",
    "        l=self.height**2+self.radius**2\n",
    "        surface=math.pi*self.radius*self.radius+math.pi*self.radius*l\n",
    "        print(\"the surface area of cone is \",surface)\n",
    "        \n",
    "c1=cone(2,3)\n",
    "c1.calcVol()\n",
    "c1.calcSurface()\n",
    "    "
   ]
  },
  {
   "cell_type": "code",
   "execution_count": null,
   "metadata": {},
   "outputs": [],
   "source": []
  }
 ],
 "metadata": {
  "kernelspec": {
   "display_name": "Python 3",
   "language": "python",
   "name": "python3"
  }
 },
 "nbformat": 4,
 "nbformat_minor": 4
}
